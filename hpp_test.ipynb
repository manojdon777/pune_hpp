{
 "cells": [
  {
   "cell_type": "code",
   "execution_count": 1,
   "id": "separate-apartment",
   "metadata": {},
   "outputs": [],
   "source": [
    "location = 'b'\n",
    "sqft,bhk,bath = 1000,2,2\n",
    "columns_list = [sqft,bhk,bath,'a','b','c','d','e']"
   ]
  },
  {
   "cell_type": "code",
   "execution_count": 2,
   "id": "vital-parks",
   "metadata": {},
   "outputs": [
    {
     "data": {
      "text/plain": [
       "4"
      ]
     },
     "execution_count": 2,
     "metadata": {},
     "output_type": "execute_result"
    }
   ],
   "source": [
    "try:\n",
    "    loc_index = columns_list.index(location.lower())\n",
    "except:\n",
    "    loc_index = -1\n",
    "    \n",
    "loc_index"
   ]
  },
  {
   "cell_type": "code",
   "execution_count": 3,
   "id": "offshore-phenomenon",
   "metadata": {},
   "outputs": [],
   "source": [
    "import numpy as np"
   ]
  },
  {
   "cell_type": "code",
   "execution_count": 5,
   "id": "fantastic-insurance",
   "metadata": {},
   "outputs": [
    {
     "data": {
      "text/plain": [
       "array([0., 0., 0., 0., 0., 0., 0., 0.])"
      ]
     },
     "execution_count": 5,
     "metadata": {},
     "output_type": "execute_result"
    }
   ],
   "source": [
    "x = np.zeros(len(columns_list))  # Create an array with zeros\n",
    "x"
   ]
  },
  {
   "cell_type": "code",
   "execution_count": 6,
   "id": "engaging-recipient",
   "metadata": {},
   "outputs": [
    {
     "data": {
      "text/plain": [
       "array([1000.,    2.,    2.,    0.,    1.,    0.,    0.,    0.])"
      ]
     },
     "execution_count": 6,
     "metadata": {},
     "output_type": "execute_result"
    }
   ],
   "source": [
    "x[0] = sqft\n",
    "x[1] = bhk\n",
    "x[2] = bath\n",
    "x[loc_index] = 1  # x[4] = 1\n",
    "x"
   ]
  },
  {
   "cell_type": "raw",
   "id": "fiscal-waste",
   "metadata": {},
   "source": [
    "model.predict([x]) # 2D"
   ]
  },
  {
   "cell_type": "code",
   "execution_count": null,
   "id": "changed-transfer",
   "metadata": {},
   "outputs": [],
   "source": [
    "df['Age'] = [20,21,24,25,27]\n"
   ]
  },
  {
   "cell_type": "code",
   "execution_count": null,
   "id": "comic-tractor",
   "metadata": {},
   "outputs": [],
   "source": [
    "normalization = (X-Xmin)/(Xmax-Xmin)\n"
   ]
  },
  {
   "cell_type": "code",
   "execution_count": 12,
   "id": "double-attitude",
   "metadata": {},
   "outputs": [],
   "source": [
    "json_data = {'age_col' : {'min_val' : 21,\n",
    "                         'max_val' : 27},\n",
    "            'salary_col':{'mean' :20000,\n",
    "                     'std':500}}"
   ]
  },
  {
   "cell_type": "code",
   "execution_count": 16,
   "id": "latin-relationship",
   "metadata": {},
   "outputs": [],
   "source": [
    "min_val = json_data['age_col']['min_val']"
   ]
  },
  {
   "cell_type": "code",
   "execution_count": 19,
   "id": "manual-weight",
   "metadata": {},
   "outputs": [
    {
     "data": {
      "text/plain": [
       "0.8333333333333334"
      ]
     },
     "execution_count": 19,
     "metadata": {},
     "output_type": "execute_result"
    }
   ],
   "source": [
    "age = (26 - min_val)/6\n",
    "age"
   ]
  },
  {
   "cell_type": "code",
   "execution_count": null,
   "id": "extraordinary-criterion",
   "metadata": {},
   "outputs": [],
   "source": [
    "models = [linear_regression, knn_regression]\n",
    "knn_model = models[1]\n",
    "knn_model.predict(x_test)"
   ]
  }
 ],
 "metadata": {
  "kernelspec": {
   "display_name": "Python 3",
   "language": "python",
   "name": "python3"
  },
  "language_info": {
   "codemirror_mode": {
    "name": "ipython",
    "version": 3
   },
   "file_extension": ".py",
   "mimetype": "text/x-python",
   "name": "python",
   "nbconvert_exporter": "python",
   "pygments_lexer": "ipython3",
   "version": "3.8.7"
  }
 },
 "nbformat": 4,
 "nbformat_minor": 5
}
